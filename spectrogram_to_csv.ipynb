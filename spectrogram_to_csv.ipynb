{
 "cells": [
  {
   "cell_type": "code",
   "execution_count": 120,
   "metadata": {},
   "outputs": [],
   "source": [
    "import pandas as pd\n",
    "import random\n",
    "from PIL import Image, ImageDraw #Подключим необходимые библиотеки. \n",
    "import pydub\n",
    "import os\n",
    "import glob\n",
    "from tqdm import tqdm\n",
    "import librosa\n",
    "from matplotlib import pyplot as plt\n",
    "import librosa.display"
   ]
  },
  {
   "cell_type": "code",
   "execution_count": 128,
   "metadata": {},
   "outputs": [],
   "source": [
    "def mp3_to_spectrogram(path,path_to_save,data):\n",
    "    for file in tqdm(range(data.shape[0])) :\n",
    "        files=path + data['path'][file]\n",
    "        x , sr = librosa.load(files) # x - samples, sr - sample rate\n",
    "        temp = os.path.splitext(files)[0]\n",
    "        file_name=os.path.basename(temp)\n",
    "    \n",
    "        X = librosa.stft(x) # Short-time Fourier transform\n",
    "        Xdb = librosa.amplitude_to_db(abs(X)) #Convert an amplitude spectrogram to dB-scaled spectrogram.\n",
    "        plt.figure(figsize=(14, 5))\n",
    "        librosa.display.specshow(Xdb, sr=sr,bins_per_octave=129,hop_length=50 ) #Display a spectrogram,Number of bins per octave = 129, Hann Window default  \n",
    "        plt.axis('off')\n",
    "        \n",
    "        path_spect=path_to_save + file_name +'.png'\n",
    "        plt.savefig(path_spect ,bbox_inches = 'tight',pad_inches = 0, dpi=100) #save spectrogram\n",
    "        \n",
    "    \n",
    "        image = Image.open(path_spect) #open spectrogram \n",
    "        draw = ImageDraw.Draw(image) #create a drawing tool\n",
    "        width = image.size[0] #Determine the width\n",
    "        height = image.size[1] #Determine the height\n",
    "        pix = image.load() #Upload pixel values\n",
    "    \n",
    "        for i in range(width):\n",
    "            for j in range(height):\n",
    "                a = pix[i, j][0]\n",
    "                b = pix[i, j][1]\n",
    "                c = pix[i, j][2]\n",
    "                S = (a + b + c) // 3\n",
    "                draw.point((i, j), (S, S, S))\n",
    "        image.save(path_spect)\n",
    "        plt.clf()"
   ]
  },
  {
   "cell_type": "code",
   "execution_count": 229,
   "metadata": {},
   "outputs": [],
   "source": [
    "#way to train.tsv for all languages\n",
    "path_ru=('D:/Voice/Rus/train.tsv')\n",
    "path_en=('D:/Voice/en/train.tsv')\n",
    "path_de=('D:/Voice/de/train.tsv')\n",
    "patn_cn=('D:/Voice/CN/train.tsv')"
   ]
  },
  {
   "cell_type": "code",
   "execution_count": 230,
   "metadata": {},
   "outputs": [],
   "source": [
    "df_ru = pd.read_csv(path_ru,sep='\\t')\n",
    "df_cn = pd.read_csv(patn_cn,sep='\\t')\n",
    "df_en = pd.read_csv(path_en,sep='\\t')\n",
    "df_de = pd.read_csv(path_de,sep='\\t') "
   ]
  },
  {
   "cell_type": "code",
   "execution_count": null,
   "metadata": {},
   "outputs": [],
   "source": []
  },
  {
   "cell_type": "code",
   "execution_count": 231,
   "metadata": {},
   "outputs": [],
   "source": [
    "#delete unnecessary columns\n",
    "df_ru=df_ru.drop(['client_id', 'up_votes', 'down_votes','accent','sentence'], axis=1)\n",
    "df_cn=df_cn.drop(['client_id', 'up_votes', 'down_votes','accent','sentence'], axis=1)\n",
    "df_en=df_en.drop(['client_id', 'up_votes', 'down_votes','accent','sentence'], axis=1)\n",
    "df_de=df_de.drop(['client_id', 'up_votes', 'down_votes','accent','sentence'], axis=1)"
   ]
  },
  {
   "cell_type": "code",
   "execution_count": 232,
   "metadata": {},
   "outputs": [],
   "source": [
    "# delete all the values where there is NaN\n",
    "df_ru = df_ru.dropna()\n",
    "df_cn = df_cn.dropna()\n",
    "df_en = df_en.dropna()\n",
    "df_de = df_de.dropna()\n"
   ]
  },
  {
   "cell_type": "code",
   "execution_count": 233,
   "metadata": {},
   "outputs": [],
   "source": [
    "#update indexes after dropna\n",
    "df_ru.reset_index(drop=True, inplace=True)\n",
    "df_cn.reset_index(drop=True, inplace=True)\n",
    "df_en.reset_index(drop=True, inplace=True)\n",
    "df_de.reset_index(drop=True, inplace=True)"
   ]
  },
  {
   "cell_type": "code",
   "execution_count": 234,
   "metadata": {},
   "outputs": [],
   "source": [
    "df_ru_ru = df_ru[0:1499] # take the first 1500 elements\n",
    "df_cn_cn = df_cn[0:1499]\n",
    "df_en_en = df_en[0:1499]\n",
    "df_de_de = df_de[0:1499]"
   ]
  },
  {
   "cell_type": "code",
   "execution_count": 235,
   "metadata": {},
   "outputs": [
    {
     "name": "stderr",
     "output_type": "stream",
     "text": [
      "C:\\ProgramData\\Anaconda3\\lib\\site-packages\\ipykernel_launcher.py:1: SettingWithCopyWarning: \n",
      "A value is trying to be set on a copy of a slice from a DataFrame.\n",
      "Try using .loc[row_indexer,col_indexer] = value instead\n",
      "\n",
      "See the caveats in the documentation: https://pandas.pydata.org/pandas-docs/stable/user_guide/indexing.html#returning-a-view-versus-a-copy\n",
      "  \"\"\"Entry point for launching an IPython kernel.\n",
      "C:\\ProgramData\\Anaconda3\\lib\\site-packages\\ipykernel_launcher.py:2: SettingWithCopyWarning: \n",
      "A value is trying to be set on a copy of a slice from a DataFrame.\n",
      "Try using .loc[row_indexer,col_indexer] = value instead\n",
      "\n",
      "See the caveats in the documentation: https://pandas.pydata.org/pandas-docs/stable/user_guide/indexing.html#returning-a-view-versus-a-copy\n",
      "  \n",
      "C:\\ProgramData\\Anaconda3\\lib\\site-packages\\ipykernel_launcher.py:3: SettingWithCopyWarning: \n",
      "A value is trying to be set on a copy of a slice from a DataFrame.\n",
      "Try using .loc[row_indexer,col_indexer] = value instead\n",
      "\n",
      "See the caveats in the documentation: https://pandas.pydata.org/pandas-docs/stable/user_guide/indexing.html#returning-a-view-versus-a-copy\n",
      "  This is separate from the ipykernel package so we can avoid doing imports until\n",
      "C:\\ProgramData\\Anaconda3\\lib\\site-packages\\ipykernel_launcher.py:4: SettingWithCopyWarning: \n",
      "A value is trying to be set on a copy of a slice from a DataFrame.\n",
      "Try using .loc[row_indexer,col_indexer] = value instead\n",
      "\n",
      "See the caveats in the documentation: https://pandas.pydata.org/pandas-docs/stable/user_guide/indexing.html#returning-a-view-versus-a-copy\n",
      "  after removing the cwd from sys.path.\n"
     ]
    }
   ],
   "source": [
    "df_ru_ru['language']='ru' #add a column with a language class (ru, en, de, cn)\n",
    "df_cn_cn['language']='cn'\n",
    "df_en_en['language']='en'\n",
    "df_de_de['language']='de'"
   ]
  },
  {
   "cell_type": "code",
   "execution_count": null,
   "metadata": {},
   "outputs": [],
   "source": []
  },
  {
   "cell_type": "code",
   "execution_count": 236,
   "metadata": {},
   "outputs": [],
   "source": [
    "df_all = pd.concat([df_ru_ru, df_cn_cn, df_en_en, df_de_de], ignore_index=True) #concatenate 4 df into one df_all"
   ]
  },
  {
   "cell_type": "code",
   "execution_count": null,
   "metadata": {},
   "outputs": [],
   "source": []
  },
  {
   "cell_type": "code",
   "execution_count": 237,
   "metadata": {},
   "outputs": [],
   "source": [
    "df_all['gender']=df_all['gender'].apply(lambda x: 1 if x == 'male' else 0)# replace male = 1 female = 0"
   ]
  },
  {
   "cell_type": "code",
   "execution_count": 239,
   "metadata": {},
   "outputs": [
    {
     "name": "stdout",
     "output_type": "stream",
     "text": [
      "<class 'pandas.core.frame.DataFrame'>\n",
      "RangeIndex: 5996 entries, 0 to 5995\n",
      "Data columns (total 4 columns):\n",
      " #   Column    Non-Null Count  Dtype \n",
      "---  ------    --------------  ----- \n",
      " 0   path      5996 non-null   object\n",
      " 1   age       5996 non-null   object\n",
      " 2   gender    5996 non-null   int64 \n",
      " 3   language  5996 non-null   object\n",
      "dtypes: int64(1), object(3)\n",
      "memory usage: 187.5+ KB\n"
     ]
    }
   ],
   "source": [
    "df_all.info()"
   ]
  },
  {
   "cell_type": "code",
   "execution_count": 240,
   "metadata": {},
   "outputs": [],
   "source": [
    "#path to records all languages\n",
    "path_voice_ru=('D:/Voice/Rus/clips/')\n",
    "path_voice_en=('D:/Voice/en/clips/')\n",
    "path_voice_de=('D:/Voice/de/clips/')\n",
    "path_voice_cn=('D:/Voice/CN/clips/')"
   ]
  },
  {
   "cell_type": "code",
   "execution_count": 241,
   "metadata": {},
   "outputs": [],
   "source": [
    "path_to_save='D:/Voice/spect/'"
   ]
  },
  {
   "cell_type": "code",
   "execution_count": null,
   "metadata": {},
   "outputs": [],
   "source": [
    "#start the spectrogram generation function"
   ]
  },
  {
   "cell_type": "code",
   "execution_count": 263,
   "metadata": {},
   "outputs": [],
   "source": [
    "mp3_to_spectrogram(path_voice_ru,path_to_save,df_ru_ru)"
   ]
  },
  {
   "cell_type": "code",
   "execution_count": 264,
   "metadata": {},
   "outputs": [],
   "source": [
    "mp3_to_spectrogram(path_voice_en,path_to_save,df_en_en)"
   ]
  },
  {
   "cell_type": "code",
   "execution_count": 265,
   "metadata": {},
   "outputs": [],
   "source": [
    "mp3_to_spectrogram(path_voice_de,path_to_save,df_de_de)"
   ]
  },
  {
   "cell_type": "code",
   "execution_count": 266,
   "metadata": {},
   "outputs": [],
   "source": [
    "mp3_to_spectrogram(path_voice_cn,path_to_save,df_cn_cn)"
   ]
  },
  {
   "cell_type": "code",
   "execution_count": 260,
   "metadata": {},
   "outputs": [
    {
     "name": "stderr",
     "output_type": "stream",
     "text": [
      "C:\\ProgramData\\Anaconda3\\lib\\site-packages\\ipykernel_launcher.py:2: SettingWithCopyWarning: \n",
      "A value is trying to be set on a copy of a slice from a DataFrame\n",
      "\n",
      "See the caveats in the documentation: https://pandas.pydata.org/pandas-docs/stable/user_guide/indexing.html#returning-a-view-versus-a-copy\n",
      "  \n"
     ]
    }
   ],
   "source": [
    "# replace the extension from .mp3 to .png in the file name in df_all - combined data frame\n",
    "for i in range(df_all.shape[0]):\n",
    "    df_all['path'][i]= df_all['path'][i][:-4] +'.png'"
   ]
  },
  {
   "cell_type": "code",
   "execution_count": 262,
   "metadata": {},
   "outputs": [],
   "source": [
    "df_all.to_csv('D:\\Voice\\df_all.csv ' , index=False) # save df_all "
   ]
  },
  {
   "cell_type": "code",
   "execution_count": null,
   "metadata": {},
   "outputs": [],
   "source": []
  },
  {
   "cell_type": "code",
   "execution_count": null,
   "metadata": {},
   "outputs": [],
   "source": []
  },
  {
   "cell_type": "code",
   "execution_count": null,
   "metadata": {},
   "outputs": [],
   "source": []
  }
 ],
 "metadata": {
  "kernelspec": {
   "display_name": "Python 3",
   "language": "python",
   "name": "python3"
  },
  "language_info": {
   "codemirror_mode": {
    "name": "ipython",
    "version": 3
   },
   "file_extension": ".py",
   "mimetype": "text/x-python",
   "name": "python",
   "nbconvert_exporter": "python",
   "pygments_lexer": "ipython3",
   "version": "3.7.6"
  }
 },
 "nbformat": 4,
 "nbformat_minor": 4
}
