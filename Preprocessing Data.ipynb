{
 "cells": [
  {
   "cell_type": "code",
   "execution_count": 26,
   "metadata": {},
   "outputs": [
    {
     "name": "stderr",
     "output_type": "stream",
     "text": [
      "Using TensorFlow backend.\n"
     ]
    }
   ],
   "source": [
    "import pandas as pd\n",
    "from matplotlib import pyplot as plt\n",
    "import seaborn as sns\n",
    "import numpy as np\n",
    "from tqdm import tqdm\n",
    "from keras.preprocessing import image"
   ]
  },
  {
   "cell_type": "code",
   "execution_count": 68,
   "metadata": {},
   "outputs": [],
   "source": [
    "path_to_data = 'D:\\Voice\\df_all.csv'"
   ]
  },
  {
   "cell_type": "code",
   "execution_count": 69,
   "metadata": {},
   "outputs": [],
   "source": [
    "df_all = pd.read_csv(path_to_data) # read concatenated dataframe df_all"
   ]
  },
  {
   "cell_type": "code",
   "execution_count": 70,
   "metadata": {},
   "outputs": [
    {
     "data": {
      "text/html": [
       "<div>\n",
       "<style scoped>\n",
       "    .dataframe tbody tr th:only-of-type {\n",
       "        vertical-align: middle;\n",
       "    }\n",
       "\n",
       "    .dataframe tbody tr th {\n",
       "        vertical-align: top;\n",
       "    }\n",
       "\n",
       "    .dataframe thead th {\n",
       "        text-align: right;\n",
       "    }\n",
       "</style>\n",
       "<table border=\"1\" class=\"dataframe\">\n",
       "  <thead>\n",
       "    <tr style=\"text-align: right;\">\n",
       "      <th></th>\n",
       "      <th>path</th>\n",
       "      <th>age</th>\n",
       "      <th>gender</th>\n",
       "      <th>language</th>\n",
       "    </tr>\n",
       "  </thead>\n",
       "  <tbody>\n",
       "    <tr>\n",
       "      <th>0</th>\n",
       "      <td>common_voice_ru_19793729.png</td>\n",
       "      <td>twenties</td>\n",
       "      <td>1</td>\n",
       "      <td>ru</td>\n",
       "    </tr>\n",
       "    <tr>\n",
       "      <th>1</th>\n",
       "      <td>common_voice_ru_19793731.png</td>\n",
       "      <td>twenties</td>\n",
       "      <td>1</td>\n",
       "      <td>ru</td>\n",
       "    </tr>\n",
       "    <tr>\n",
       "      <th>2</th>\n",
       "      <td>common_voice_ru_19793733.png</td>\n",
       "      <td>twenties</td>\n",
       "      <td>1</td>\n",
       "      <td>ru</td>\n",
       "    </tr>\n",
       "    <tr>\n",
       "      <th>3</th>\n",
       "      <td>common_voice_ru_19793737.png</td>\n",
       "      <td>twenties</td>\n",
       "      <td>1</td>\n",
       "      <td>ru</td>\n",
       "    </tr>\n",
       "    <tr>\n",
       "      <th>4</th>\n",
       "      <td>common_voice_ru_19793749.png</td>\n",
       "      <td>twenties</td>\n",
       "      <td>1</td>\n",
       "      <td>ru</td>\n",
       "    </tr>\n",
       "    <tr>\n",
       "      <th>...</th>\n",
       "      <td>...</td>\n",
       "      <td>...</td>\n",
       "      <td>...</td>\n",
       "      <td>...</td>\n",
       "    </tr>\n",
       "    <tr>\n",
       "      <th>5991</th>\n",
       "      <td>common_voice_de_19118397.png</td>\n",
       "      <td>twenties</td>\n",
       "      <td>0</td>\n",
       "      <td>de</td>\n",
       "    </tr>\n",
       "    <tr>\n",
       "      <th>5992</th>\n",
       "      <td>common_voice_de_19118398.png</td>\n",
       "      <td>twenties</td>\n",
       "      <td>0</td>\n",
       "      <td>de</td>\n",
       "    </tr>\n",
       "    <tr>\n",
       "      <th>5993</th>\n",
       "      <td>common_voice_de_19118400.png</td>\n",
       "      <td>twenties</td>\n",
       "      <td>0</td>\n",
       "      <td>de</td>\n",
       "    </tr>\n",
       "    <tr>\n",
       "      <th>5994</th>\n",
       "      <td>common_voice_de_19118401.png</td>\n",
       "      <td>twenties</td>\n",
       "      <td>0</td>\n",
       "      <td>de</td>\n",
       "    </tr>\n",
       "    <tr>\n",
       "      <th>5995</th>\n",
       "      <td>common_voice_de_19118417.png</td>\n",
       "      <td>twenties</td>\n",
       "      <td>0</td>\n",
       "      <td>de</td>\n",
       "    </tr>\n",
       "  </tbody>\n",
       "</table>\n",
       "<p>5996 rows × 4 columns</p>\n",
       "</div>"
      ],
      "text/plain": [
       "                              path       age  gender language\n",
       "0     common_voice_ru_19793729.png  twenties       1       ru\n",
       "1     common_voice_ru_19793731.png  twenties       1       ru\n",
       "2     common_voice_ru_19793733.png  twenties       1       ru\n",
       "3     common_voice_ru_19793737.png  twenties       1       ru\n",
       "4     common_voice_ru_19793749.png  twenties       1       ru\n",
       "...                            ...       ...     ...      ...\n",
       "5991  common_voice_de_19118397.png  twenties       0       de\n",
       "5992  common_voice_de_19118398.png  twenties       0       de\n",
       "5993  common_voice_de_19118400.png  twenties       0       de\n",
       "5994  common_voice_de_19118401.png  twenties       0       de\n",
       "5995  common_voice_de_19118417.png  twenties       0       de\n",
       "\n",
       "[5996 rows x 4 columns]"
      ]
     },
     "execution_count": 70,
     "metadata": {},
     "output_type": "execute_result"
    }
   ],
   "source": [
    "df_all"
   ]
  },
  {
   "cell_type": "code",
   "execution_count": 51,
   "metadata": {},
   "outputs": [
    {
     "data": {
      "text/plain": [
       "array(['twenties', 'thirties', 'teens', 'fourties', 'sixties', 'fifties',\n",
       "       'eighties', 'seventies'], dtype=object)"
      ]
     },
     "execution_count": 51,
     "metadata": {},
     "output_type": "execute_result"
    }
   ],
   "source": [
    "df_all['age'].unique()"
   ]
  },
  {
   "cell_type": "code",
   "execution_count": 52,
   "metadata": {},
   "outputs": [
    {
     "data": {
      "text/plain": [
       "array(['ru', 'cn', 'en', 'de'], dtype=object)"
      ]
     },
     "execution_count": 52,
     "metadata": {},
     "output_type": "execute_result"
    }
   ],
   "source": [
    "df_all['language'].unique()"
   ]
  },
  {
   "cell_type": "code",
   "execution_count": 53,
   "metadata": {},
   "outputs": [
    {
     "data": {
      "text/plain": [
       "array([1, 0], dtype=int64)"
      ]
     },
     "execution_count": 53,
     "metadata": {},
     "output_type": "execute_result"
    }
   ],
   "source": [
    "df_all['gender'].unique()"
   ]
  },
  {
   "cell_type": "code",
   "execution_count": 54,
   "metadata": {},
   "outputs": [
    {
     "name": "stdout",
     "output_type": "stream",
     "text": [
      "Male : 5422 Female : 574\n"
     ]
    }
   ],
   "source": [
    "male_sum = df_all['gender'].sum()\n",
    "female_sum = df_all.shape[0]-male_sum\n",
    "print('Male :', male_sum, 'Female :', female_sum)"
   ]
  },
  {
   "cell_type": "code",
   "execution_count": null,
   "metadata": {},
   "outputs": [],
   "source": [
    "#look at the distribution of classes"
   ]
  },
  {
   "cell_type": "code",
   "execution_count": 55,
   "metadata": {},
   "outputs": [
    {
     "data": {
      "text/plain": [
       "<matplotlib.axes._subplots.AxesSubplot at 0x152b30377c8>"
      ]
     },
     "execution_count": 55,
     "metadata": {},
     "output_type": "execute_result"
    },
    {
     "data": {
      "image/png": "[encoded data removed]",
      "text/plain": [
       "<Figure size 432x288 with 1 Axes>"
      ]
     },
     "metadata": {
      "needs_background": "light"
     },
     "output_type": "display_data"
    }
   ],
   "source": [
    "sns.countplot(df_all['age'])\n"
   ]
  },
  {
   "cell_type": "code",
   "execution_count": 56,
   "metadata": {},
   "outputs": [
    {
     "data": {
      "text/plain": [
       "<matplotlib.axes._subplots.AxesSubplot at 0x154bfdb4388>"
      ]
     },
     "execution_count": 56,
     "metadata": {},
     "output_type": "execute_result"
    },
    {
     "data": {
      "image/png": "[encoded data removed]",
      "text/plain": [
       "<Figure size 432x288 with 1 Axes>"
      ]
     },
     "metadata": {
      "needs_background": "light"
     },
     "output_type": "display_data"
    }
   ],
   "source": [
    "sns.countplot(df_all['gender'])"
   ]
  },
  {
   "cell_type": "code",
   "execution_count": 57,
   "metadata": {},
   "outputs": [
    {
     "data": {
      "text/plain": [
       "<matplotlib.axes._subplots.AxesSubplot at 0x154bfdff248>"
      ]
     },
     "execution_count": 57,
     "metadata": {},
     "output_type": "execute_result"
    },
    {
     "data": {
      "image/png": "[encoded data removed]",
      "text/plain": [
       "<Figure size 432x288 with 1 Axes>"
      ]
     },
     "metadata": {
      "needs_background": "light"
     },
     "output_type": "display_data"
    }
   ],
   "source": [
    "sns.countplot(df_all['language'])"
   ]
  },
  {
   "cell_type": "code",
   "execution_count": null,
   "metadata": {},
   "outputs": [],
   "source": [
    "df_all.loc[(df_all['language'] == 'ru')] = 0 \n",
    "df_all.loc[(df_all['language'] == 'en')] = 1\n",
    "df_all.loc[(df_all['language'] == 'cn')] = 2\n",
    "df_all.loc[(df_all['language'] == 'de')] = 3"
   ]
  },
  {
   "cell_type": "code",
   "execution_count": null,
   "metadata": {},
   "outputs": [],
   "source": [
    "print ('Ru :0','En:1','Cn:2','De:3')"
   ]
  },
  {
   "cell_type": "code",
   "execution_count": null,
   "metadata": {},
   "outputs": [],
   "source": [
    "df_all"
   ]
  },
  {
   "cell_type": "markdown",
   "metadata": {},
   "source": [
    "# quick model test"
   ]
  },
  {
   "cell_type": "code",
   "execution_count": null,
   "metadata": {},
   "outputs": [],
   "source": [
    "img_shape"
   ]
  },
  {
   "cell_type": "code",
   "execution_count": 29,
   "metadata": {},
   "outputs": [
    {
     "name": "stderr",
     "output_type": "stream",
     "text": [
      "100%|██████████| 5996/5996 [03:59<00:00, 25.00it/s]\n"
     ]
    }
   ],
   "source": [
    "# loading images into a numpy matrix for training before train_test_split\n",
    "X=[] \n",
    "for i in tqdm(range(df_all.shape[0])):\n",
    "  path_spect = 'D:/Voice/spect/' + df_all['path'][i]\n",
    "  img = image.load_img(path_spect,target_size=(129,500,1))\n",
    "  img = image.img_to_array(img)\n",
    "  img = img/255.0\n",
    "  X.append(img)\n",
    "X = np.array(X)"
   ]
  },
  {
   "cell_type": "code",
   "execution_count": 30,
   "metadata": {},
   "outputs": [
    {
     "data": {
      "text/plain": [
       "<matplotlib.image.AxesImage at 0x15321b6e988>"
      ]
     },
     "execution_count": 30,
     "metadata": {},
     "output_type": "execute_result"
    },
    {
     "data": {
      "image/png": "[encoded data removed]",
      "text/plain": [
       "<Figure size 432x288 with 1 Axes>"
      ]
     },
     "metadata": {
      "needs_background": "light"
     },
     "output_type": "display_data"
    }
   ],
   "source": [
    "plt.imshow(X[1])"
   ]
  },
  {
   "cell_type": "code",
   "execution_count": 31,
   "metadata": {},
   "outputs": [
    {
     "data": {
      "text/plain": [
       "(5996, 129, 500, 3)"
      ]
     },
     "execution_count": 31,
     "metadata": {},
     "output_type": "execute_result"
    }
   ],
   "source": [
    "X.shape"
   ]
  },
  {
   "cell_type": "code",
   "execution_count": 86,
   "metadata": {},
   "outputs": [],
   "source": [
    "from keras. models import Sequential\n",
    "from keras.preprocessing.image import ImageDataGenerator\n",
    "from keras.layers import Conv2D, MaxPooling2D\n",
    "from keras.layers import Activation, Dropout, Flatten, Dense,BatchNormalization\n",
    "from keras.preprocessing import image\n",
    "from keras.regularizers import l2\n",
    "import os\n",
    "import shutil\n",
    "import matplotlib.pyplot as plt\n",
    "from tqdm import tqdm\n",
    "import keras\n",
    "from sklearn.model_selection import train_test_split"
   ]
  },
  {
   "cell_type": "code",
   "execution_count": 80,
   "metadata": {},
   "outputs": [],
   "source": [
    "#try to learn the language model\n",
    "y = df_all.drop(['path','age','gender'], axis=1)"
   ]
  },
  {
   "cell_type": "code",
   "execution_count": null,
   "metadata": {},
   "outputs": [],
   "source": [
    "#from sklearn.preprocessing import OneHotEncoder\n",
    "#one_hot= OneHotEncoder(sparse=False)\n",
    "#y_categorical = one_hot.fit_transform(y['language'].values.reshape(-1,1))\n",
    "#tmp = pd.DataFrame(y_categorical,columns=['ru','cn','en','de'])\n",
    "#y = pd.concat([y,tmp],axis=1)\n",
    "#y"
   ]
  },
  {
   "cell_type": "code",
   "execution_count": 81,
   "metadata": {},
   "outputs": [],
   "source": [
    "# break up y to categorical\n",
    "y['language'] = pd.Categorical(y['language'])\n",
    "y = pd.get_dummies(y['language'],prefix='lan')"
   ]
  },
  {
   "cell_type": "code",
   "execution_count": 82,
   "metadata": {},
   "outputs": [
    {
     "data": {
      "text/html": [
       "<div>\n",
       "<style scoped>\n",
       "    .dataframe tbody tr th:only-of-type {\n",
       "        vertical-align: middle;\n",
       "    }\n",
       "\n",
       "    .dataframe tbody tr th {\n",
       "        vertical-align: top;\n",
       "    }\n",
       "\n",
       "    .dataframe thead th {\n",
       "        text-align: right;\n",
       "    }\n",
       "</style>\n",
       "<table border=\"1\" class=\"dataframe\">\n",
       "  <thead>\n",
       "    <tr style=\"text-align: right;\">\n",
       "      <th></th>\n",
       "      <th>lan_cn</th>\n",
       "      <th>lan_de</th>\n",
       "      <th>lan_en</th>\n",
       "      <th>lan_ru</th>\n",
       "    </tr>\n",
       "  </thead>\n",
       "  <tbody>\n",
       "    <tr>\n",
       "      <th>0</th>\n",
       "      <td>0</td>\n",
       "      <td>0</td>\n",
       "      <td>0</td>\n",
       "      <td>1</td>\n",
       "    </tr>\n",
       "    <tr>\n",
       "      <th>1</th>\n",
       "      <td>0</td>\n",
       "      <td>0</td>\n",
       "      <td>0</td>\n",
       "      <td>1</td>\n",
       "    </tr>\n",
       "    <tr>\n",
       "      <th>2</th>\n",
       "      <td>0</td>\n",
       "      <td>0</td>\n",
       "      <td>0</td>\n",
       "      <td>1</td>\n",
       "    </tr>\n",
       "    <tr>\n",
       "      <th>3</th>\n",
       "      <td>0</td>\n",
       "      <td>0</td>\n",
       "      <td>0</td>\n",
       "      <td>1</td>\n",
       "    </tr>\n",
       "    <tr>\n",
       "      <th>4</th>\n",
       "      <td>0</td>\n",
       "      <td>0</td>\n",
       "      <td>0</td>\n",
       "      <td>1</td>\n",
       "    </tr>\n",
       "    <tr>\n",
       "      <th>...</th>\n",
       "      <td>...</td>\n",
       "      <td>...</td>\n",
       "      <td>...</td>\n",
       "      <td>...</td>\n",
       "    </tr>\n",
       "    <tr>\n",
       "      <th>5991</th>\n",
       "      <td>0</td>\n",
       "      <td>1</td>\n",
       "      <td>0</td>\n",
       "      <td>0</td>\n",
       "    </tr>\n",
       "    <tr>\n",
       "      <th>5992</th>\n",
       "      <td>0</td>\n",
       "      <td>1</td>\n",
       "      <td>0</td>\n",
       "      <td>0</td>\n",
       "    </tr>\n",
       "    <tr>\n",
       "      <th>5993</th>\n",
       "      <td>0</td>\n",
       "      <td>1</td>\n",
       "      <td>0</td>\n",
       "      <td>0</td>\n",
       "    </tr>\n",
       "    <tr>\n",
       "      <th>5994</th>\n",
       "      <td>0</td>\n",
       "      <td>1</td>\n",
       "      <td>0</td>\n",
       "      <td>0</td>\n",
       "    </tr>\n",
       "    <tr>\n",
       "      <th>5995</th>\n",
       "      <td>0</td>\n",
       "      <td>1</td>\n",
       "      <td>0</td>\n",
       "      <td>0</td>\n",
       "    </tr>\n",
       "  </tbody>\n",
       "</table>\n",
       "<p>5996 rows × 4 columns</p>\n",
       "</div>"
      ],
      "text/plain": [
       "      lan_cn  lan_de  lan_en  lan_ru\n",
       "0          0       0       0       1\n",
       "1          0       0       0       1\n",
       "2          0       0       0       1\n",
       "3          0       0       0       1\n",
       "4          0       0       0       1\n",
       "...      ...     ...     ...     ...\n",
       "5991       0       1       0       0\n",
       "5992       0       1       0       0\n",
       "5993       0       1       0       0\n",
       "5994       0       1       0       0\n",
       "5995       0       1       0       0\n",
       "\n",
       "[5996 rows x 4 columns]"
      ]
     },
     "execution_count": 82,
     "metadata": {},
     "output_type": "execute_result"
    }
   ],
   "source": [
    "y"
   ]
  },
  {
   "cell_type": "code",
   "execution_count": 83,
   "metadata": {},
   "outputs": [],
   "source": [
    "y = y.to_numpy()"
   ]
  },
  {
   "cell_type": "code",
   "execution_count": 84,
   "metadata": {},
   "outputs": [
    {
     "data": {
      "text/plain": [
       "(5996, 4)"
      ]
     },
     "execution_count": 84,
     "metadata": {},
     "output_type": "execute_result"
    }
   ],
   "source": [
    "y.shape"
   ]
  },
  {
   "cell_type": "code",
   "execution_count": 85,
   "metadata": {},
   "outputs": [],
   "source": [
    "X_train, X_test, y_train,y_test = train_test_split(X,y,random_state=7,test_size=0.20)\n"
   ]
  },
  {
   "cell_type": "code",
   "execution_count": null,
   "metadata": {},
   "outputs": [],
   "source": [
    "from sklearn.utils.class_weight import compute_class_weight\n",
    "class_weights = compute_class_weight('balanced',np.unique(y_train),y_train.argmax(axis=1))\n",
    "print('class weights: ', class_weights)"
   ]
  },
  {
   "cell_type": "code",
   "execution_count": null,
   "metadata": {},
   "outputs": [],
   "source": []
  },
  {
   "cell_type": "markdown",
   "metadata": {},
   "source": [
    "# MODEL TEST"
   ]
  },
  {
   "cell_type": "code",
   "execution_count": 89,
   "metadata": {},
   "outputs": [],
   "source": []
  },
  {
   "cell_type": "code",
   "execution_count": null,
   "metadata": {},
   "outputs": [],
   "source": []
  },
  {
   "cell_type": "code",
   "execution_count": 109,
   "metadata": {},
   "outputs": [],
   "source": [
    "model = Sequential()\n",
    "\n",
    "model.add(Conv2D(16,(7,7),strides=2,activation='relu',input_shape=(129,500,3)))\n",
    "model.add(BatchNormalization())\n",
    "model.add(MaxPooling2D((2,2)))\n",
    "model.add(Dropout(0.25))\n",
    "\n",
    "model.add(Conv2D(32,(5,5),activation='relu'))\n",
    "model.add(BatchNormalization())\n",
    "model.add(MaxPooling2D((2,2)))\n",
    "model.add(Dropout(0.25))\n",
    "\n",
    "model.add(Conv2D(64,(3,3),activation='relu'))\n",
    "model.add(BatchNormalization())\n",
    "model.add(MaxPooling2D((2,2)))\n",
    "model.add(Dropout(0.25))\n",
    "\n",
    "model.add(Conv2D(128,(3,3),activation='relu'))\n",
    "model.add(BatchNormalization())\n",
    "model.add(MaxPooling2D((2,2)))\n",
    "model.add(Dropout(0.25))\n",
    "\n",
    "\n",
    "model.add(Flatten())\n",
    "model.add(Dense(256,activation='relu'))\n",
    "model.add(Dropout(0.25))\n",
    "\n",
    "model.add(Dense(4,activation='softmax'))"
   ]
  },
  {
   "cell_type": "code",
   "execution_count": 110,
   "metadata": {},
   "outputs": [],
   "source": [
    "model.compile(optimizer='rmsprop', loss = 'categorical_crossentropy', metrics=['accuracy']) "
   ]
  },
  {
   "cell_type": "code",
   "execution_count": 111,
   "metadata": {},
   "outputs": [
    {
     "name": "stdout",
     "output_type": "stream",
     "text": [
      "Train on 4796 samples, validate on 1200 samples\n",
      "Epoch 1/30\n",
      "4796/4796 [==============================] - 144s 30ms/step - loss: 1.5281 - accuracy: 0.4504 - val_loss: 6.3872 - val_accuracy: 0.2608\n",
      "Epoch 2/30\n",
      "4796/4796 [==============================] - 158s 33ms/step - loss: 1.0263 - accuracy: 0.5365 - val_loss: 3.0079 - val_accuracy: 0.2825\n",
      "Epoch 3/30\n",
      "4796/4796 [==============================] - 128s 27ms/step - loss: 0.8829 - accuracy: 0.6009 - val_loss: 1.3567 - val_accuracy: 0.5175\n",
      "Epoch 4/30\n",
      "4796/4796 [==============================] - 128s 27ms/step - loss: 0.7941 - accuracy: 0.6453 - val_loss: 1.2711 - val_accuracy: 0.5250\n",
      "Epoch 5/30\n",
      "4796/4796 [==============================] - 134s 28ms/step - loss: 0.7097 - accuracy: 0.6925 - val_loss: 1.4805 - val_accuracy: 0.4975\n",
      "Epoch 6/30\n",
      "4796/4796 [==============================] - 126s 26ms/step - loss: 0.6567 - accuracy: 0.7148 - val_loss: 5.1373 - val_accuracy: 0.3092\n",
      "Epoch 7/30\n",
      "4796/4796 [==============================] - 121s 25ms/step - loss: 0.5917 - accuracy: 0.7425 - val_loss: 1.0146 - val_accuracy: 0.6017\n",
      "Epoch 8/30\n",
      "4796/4796 [==============================] - 121s 25ms/step - loss: 0.5409 - accuracy: 0.7650 - val_loss: 0.9614 - val_accuracy: 0.6325\n",
      "Epoch 9/30\n",
      "4796/4796 [==============================] - 120s 25ms/step - loss: 0.4928 - accuracy: 0.7882 - val_loss: 2.0005 - val_accuracy: 0.5317\n",
      "Epoch 10/30\n",
      "4796/4796 [==============================] - 120s 25ms/step - loss: 0.4518 - accuracy: 0.8057 - val_loss: 4.9748 - val_accuracy: 0.3808\n",
      "Epoch 11/30\n",
      "4796/4796 [==============================] - 119s 25ms/step - loss: 0.4284 - accuracy: 0.8234 - val_loss: 1.9192 - val_accuracy: 0.5233\n",
      "Epoch 12/30\n",
      "4796/4796 [==============================] - 119s 25ms/step - loss: 0.3889 - accuracy: 0.8336 - val_loss: 0.5563 - val_accuracy: 0.7650\n",
      "Epoch 13/30\n",
      "4796/4796 [==============================] - 120s 25ms/step - loss: 0.3686 - accuracy: 0.8455 - val_loss: 1.4507 - val_accuracy: 0.6558\n",
      "Epoch 14/30\n",
      "4796/4796 [==============================] - 119s 25ms/step - loss: 0.3408 - accuracy: 0.8511 - val_loss: 1.4403 - val_accuracy: 0.6300\n",
      "Epoch 15/30\n",
      "4796/4796 [==============================] - 119s 25ms/step - loss: 0.3211 - accuracy: 0.8705 - val_loss: 1.7841 - val_accuracy: 0.5925\n",
      "Epoch 16/30\n",
      "4796/4796 [==============================] - 120s 25ms/step - loss: 0.2837 - accuracy: 0.8855 - val_loss: 1.0770 - val_accuracy: 0.6700\n",
      "Epoch 17/30\n",
      "4796/4796 [==============================] - 120s 25ms/step - loss: 0.2723 - accuracy: 0.8947 - val_loss: 1.7870 - val_accuracy: 0.5033\n",
      "Epoch 18/30\n",
      "4796/4796 [==============================] - 120s 25ms/step - loss: 0.2559 - accuracy: 0.8974 - val_loss: 3.3430 - val_accuracy: 0.4942\n",
      "Epoch 19/30\n",
      "4796/4796 [==============================] - 122s 25ms/step - loss: 0.2308 - accuracy: 0.9110 - val_loss: 4.3452 - val_accuracy: 0.5608\n",
      "Epoch 20/30\n",
      "4796/4796 [==============================] - 119s 25ms/step - loss: 0.2312 - accuracy: 0.9149 - val_loss: 2.9001 - val_accuracy: 0.6317\n",
      "Epoch 21/30\n",
      "4796/4796 [==============================] - 120s 25ms/step - loss: 0.2157 - accuracy: 0.9185 - val_loss: 9.2418 - val_accuracy: 0.2925\n",
      "Epoch 22/30\n",
      "4796/4796 [==============================] - 119s 25ms/step - loss: 0.2058 - accuracy: 0.9243 - val_loss: 1.0059 - val_accuracy: 0.7342\n",
      "Epoch 23/30\n",
      "4796/4796 [==============================] - 119s 25ms/step - loss: 0.1996 - accuracy: 0.9241 - val_loss: 1.5477 - val_accuracy: 0.7317\n",
      "Epoch 24/30\n",
      "4796/4796 [==============================] - 123s 26ms/step - loss: 0.1941 - accuracy: 0.9306 - val_loss: 1.1401 - val_accuracy: 0.7558\n",
      "Epoch 25/30\n",
      "4796/4796 [==============================] - 120s 25ms/step - loss: 0.1803 - accuracy: 0.9368 - val_loss: 0.9763 - val_accuracy: 0.7842\n",
      "Epoch 26/30\n",
      "4796/4796 [==============================] - 120s 25ms/step - loss: 0.1574 - accuracy: 0.9427 - val_loss: 4.2728 - val_accuracy: 0.4692\n",
      "Epoch 27/30\n",
      "4796/4796 [==============================] - 120s 25ms/step - loss: 0.1545 - accuracy: 0.9454 - val_loss: 3.3083 - val_accuracy: 0.5550\n",
      "Epoch 28/30\n",
      "4796/4796 [==============================] - 121s 25ms/step - loss: 0.1463 - accuracy: 0.9485 - val_loss: 0.9084 - val_accuracy: 0.7467\n",
      "Epoch 29/30\n",
      "4796/4796 [==============================] - 119s 25ms/step - loss: 0.1602 - accuracy: 0.9468 - val_loss: 0.6651 - val_accuracy: 0.7933\n",
      "Epoch 30/30\n",
      "4796/4796 [==============================] - 119s 25ms/step - loss: 0.1371 - accuracy: 0.9487 - val_loss: 3.7493 - val_accuracy: 0.5275\n"
     ]
    }
   ],
   "source": [
    "history = model.fit(X_train,y_train, epochs=30, batch_size=32, validation_data=(X_test,y_test))"
   ]
  },
  {
   "cell_type": "code",
   "execution_count": 112,
   "metadata": {},
   "outputs": [
    {
     "data": {
      "image/png": "[encoded data removed]",
      "text/plain": [
       "<Figure size 432x288 with 1 Axes>"
      ]
     },
     "metadata": {
      "needs_background": "light"
     },
     "output_type": "display_data"
    }
   ],
   "source": [
    "plt.title('Model Accuracy')\n",
    "plt.plot(history.history['accuracy'])\n",
    "plt.plot(history.history['val_accuracy'])\n",
    "plt.ylabel('accuracy')\n",
    "plt.xlabel('epoch')\n",
    "plt.legend(['acc','val_acc'], loc='upper left')\n",
    "plt.show()"
   ]
  },
  {
   "cell_type": "code",
   "execution_count": 113,
   "metadata": {},
   "outputs": [
    {
     "data": {
      "image/png": "[encoded data removed]",
      "text/plain": [
       "<Figure size 432x288 with 1 Axes>"
      ]
     },
     "metadata": {
      "needs_background": "light"
     },
     "output_type": "display_data"
    }
   ],
   "source": [
    "plt.title('Model Loss')\n",
    "plt.plot(history.history['loss'])\n",
    "plt.plot(history.history['val_loss'])\n",
    "plt.ylabel('loss')\n",
    "plt.xlabel('epoch')\n",
    "plt.legend(['loss','val_loss'], loc='upper left')\n",
    "plt.show()"
   ]
  },
  {
   "cell_type": "markdown",
   "metadata": {},
   "source": []
  },
  {
   "cell_type": "code",
   "execution_count": null,
   "metadata": {},
   "outputs": [],
   "source": []
  }
 ],
 "metadata": {
  "kernelspec": {
   "display_name": "Python 3",
   "language": "python",
   "name": "python3"
  },
  "language_info": {
   "codemirror_mode": {
    "name": "ipython",
    "version": 3
   },
   "file_extension": ".py",
   "mimetype": "text/x-python",
   "name": "python",
   "nbconvert_exporter": "python",
   "pygments_lexer": "ipython3",
   "version": "3.7.6"
  }
 },
 "nbformat": 4,
 "nbformat_minor": 4
}
